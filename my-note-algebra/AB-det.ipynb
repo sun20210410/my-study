from IPython.core.display import HTML, Image
css_file = 'style.css'
HTML(open(css_file, 'r').read())

from IPython.core.display import HTML, Image
css_file = 'style.css'
HTML(open(css_file, 'r').read())

from sympy import init_printing, Matrix, symbols, sqrt
from warnings import filterwarnings

init_printing(use_latex = 'mathjax')
filterwarnings('ignore')

引理：P是n阶初等矩阵，B是任一n阶方阵。则|PB|=|P|.|B|。
